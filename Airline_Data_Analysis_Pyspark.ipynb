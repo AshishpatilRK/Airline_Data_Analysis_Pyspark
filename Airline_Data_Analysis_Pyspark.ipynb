{
  "nbformat": 4,
  "nbformat_minor": 0,
  "metadata": {
    "colab": {
      "name": "Airline_Data_Analysis_Pyspark.ipynb",
      "provenance": [],
      "collapsed_sections": []
    },
    "kernelspec": {
      "name": "python3",
      "display_name": "Python 3"
    },
    "language_info": {
      "name": "python"
    }
  },
  "cells": [
    {
      "cell_type": "markdown",
      "source": [
        "##Pyspark Analysis Project on Airline Dataset"
      ],
      "metadata": {
        "id": "YTfBCvY1bthL"
      }
    },
    {
      "cell_type": "code",
      "source": [
        "pip install pyspark  #installing pyspark"
      ],
      "metadata": {
        "colab": {
          "base_uri": "https://localhost:8080/"
        },
        "id": "kgX8vgvcGEEV",
        "outputId": "d98a8301-08a6-40dd-8157-3547c55798b6"
      },
      "execution_count": 1,
      "outputs": [
        {
          "output_type": "stream",
          "name": "stdout",
          "text": [
            "Looking in indexes: https://pypi.org/simple, https://us-python.pkg.dev/colab-wheels/public/simple/\n",
            "Collecting pyspark\n",
            "  Downloading pyspark-3.3.0.tar.gz (281.3 MB)\n",
            "\u001b[K     |████████████████████████████████| 281.3 MB 51 kB/s \n",
            "\u001b[?25hCollecting py4j==0.10.9.5\n",
            "  Downloading py4j-0.10.9.5-py2.py3-none-any.whl (199 kB)\n",
            "\u001b[K     |████████████████████████████████| 199 kB 46.0 MB/s \n",
            "\u001b[?25hBuilding wheels for collected packages: pyspark\n",
            "  Building wheel for pyspark (setup.py) ... \u001b[?25l\u001b[?25hdone\n",
            "  Created wheel for pyspark: filename=pyspark-3.3.0-py2.py3-none-any.whl size=281764026 sha256=41ff4b61ff00110b534de7b5eea02588189e4f4cefcbb5c6d55ec50522c95cba\n",
            "  Stored in directory: /root/.cache/pip/wheels/7a/8e/1b/f73a52650d2e5f337708d9f6a1750d451a7349a867f928b885\n",
            "Successfully built pyspark\n",
            "Installing collected packages: py4j, pyspark\n",
            "Successfully installed py4j-0.10.9.5 pyspark-3.3.0\n"
          ]
        }
      ]
    },
    {
      "cell_type": "code",
      "execution_count": 2,
      "metadata": {
        "id": "m7aECpeHF_v3"
      },
      "outputs": [],
      "source": [
        "# initializing pyspark libraries \n",
        "from pyspark.sql import SparkSession     # an entry point to PySpark          \n",
        "\n",
        "spark = SparkSession.builder.appName('Assignment').getOrCreate()   # i.e creation of spark session "
      ]
    },
    {
      "cell_type": "code",
      "source": [
        "df = spark.read.format(\"csv\").option(\"header\", \"true\").option(\"inferSchema\",\"true\").load(\"/content/Airline_data.csv\")  # create dataframe from csv file"
      ],
      "metadata": {
        "id": "eKazj9qZGcqP"
      },
      "execution_count": 3,
      "outputs": []
    },
    {
      "cell_type": "markdown",
      "source": [
        "### Q1 Show a sample of 5 records from dataset."
      ],
      "metadata": {
        "id": "i7fYMKaIcLlI"
      }
    },
    {
      "cell_type": "code",
      "source": [
        "df.show(5)  # first five records"
      ],
      "metadata": {
        "colab": {
          "base_uri": "https://localhost:8080/"
        },
        "id": "hmxZeXV_GzV8",
        "outputId": "c89cc0a5-7557-453a-9340-6c64f9b4166c"
      },
      "execution_count": 4,
      "outputs": [
        {
          "output_type": "stream",
          "name": "stdout",
          "text": [
            "+----+-----+----------+---------+-------+----------+-------+----------+-------------+---------+-------+-----------------+--------------+-------+--------+--------+------+----+--------+------+-------+---------+----------------+--------+------------+------------+--------+-------------+-----------------+\n",
            "|Year|Month|DayofMonth|DayOfWeek|DepTime|CRSDepTime|ArrTime|CRSArrTime|UniqueCarrier|FlightNum|TailNum|ActualElapsedTime|CRSElapsedTime|AirTime|ArrDelay|DepDelay|Origin|Dest|Distance|TaxiIn|TaxiOut|Cancelled|CancellationCode|Diverted|CarrierDelay|WeatherDelay|NASDelay|SecurityDelay|LateAircraftDelay|\n",
            "+----+-----+----------+---------+-------+----------+-------+----------+-------------+---------+-------+-----------------+--------------+-------+--------+--------+------+----+--------+------+-------+---------+----------------+--------+------------+------------+--------+-------------+-----------------+\n",
            "|1989|    1|        23|        1|   1419|      1230|   1742|      1552|           UA|      183|     NA|              323|           322|     NA|     110|     109|   SFO| HNL|    2398|    NA|     NA|        0|              NA|       0|          NA|          NA|      NA|           NA|               NA|\n",
            "|1989|    1|        24|        2|   1255|      1230|   1612|      1552|           UA|      183|     NA|              317|           322|     NA|      20|      25|   SFO| HNL|    2398|    NA|     NA|        0|              NA|       0|          NA|          NA|      NA|           NA|               NA|\n",
            "|1989|    1|        25|        3|   1230|      1230|   1533|      1552|           UA|      183|     NA|              303|           322|     NA|     -19|       0|   SFO| HNL|    2398|    NA|     NA|        0|              NA|       0|          NA|          NA|      NA|           NA|               NA|\n",
            "|1989|    1|        26|        4|   1230|      1230|   1523|      1552|           UA|      183|     NA|              293|           322|     NA|     -29|       0|   SFO| HNL|    2398|    NA|     NA|        0|              NA|       0|          NA|          NA|      NA|           NA|               NA|\n",
            "|1989|    1|        27|        5|   1232|      1230|   1513|      1552|           UA|      183|     NA|              281|           322|     NA|     -39|       2|   SFO| HNL|    2398|    NA|     NA|        0|              NA|       0|          NA|          NA|      NA|           NA|               NA|\n",
            "+----+-----+----------+---------+-------+----------+-------+----------+-------------+---------+-------+-----------------+--------------+-------+--------+--------+------+----+--------+------+-------+---------+----------------+--------+------------+------------+--------+-------------+-----------------+\n",
            "only showing top 5 rows\n",
            "\n"
          ]
        }
      ]
    },
    {
      "cell_type": "markdown",
      "source": [
        "### Q2. Read the data with data types."
      ],
      "metadata": {
        "id": "HNorS1dzcdFD"
      }
    },
    {
      "cell_type": "code",
      "source": [
        "df.printSchema()  # use for showing datatypes"
      ],
      "metadata": {
        "colab": {
          "base_uri": "https://localhost:8080/"
        },
        "id": "36ivpTPDHOQz",
        "outputId": "334cc63c-54eb-46d9-8bda-5ade61e58c6a"
      },
      "execution_count": 5,
      "outputs": [
        {
          "output_type": "stream",
          "name": "stdout",
          "text": [
            "root\n",
            " |-- Year: integer (nullable = true)\n",
            " |-- Month: integer (nullable = true)\n",
            " |-- DayofMonth: integer (nullable = true)\n",
            " |-- DayOfWeek: integer (nullable = true)\n",
            " |-- DepTime: integer (nullable = true)\n",
            " |-- CRSDepTime: integer (nullable = true)\n",
            " |-- ArrTime: integer (nullable = true)\n",
            " |-- CRSArrTime: integer (nullable = true)\n",
            " |-- UniqueCarrier: string (nullable = true)\n",
            " |-- FlightNum: integer (nullable = true)\n",
            " |-- TailNum: string (nullable = true)\n",
            " |-- ActualElapsedTime: integer (nullable = true)\n",
            " |-- CRSElapsedTime: integer (nullable = true)\n",
            " |-- AirTime: string (nullable = true)\n",
            " |-- ArrDelay: integer (nullable = true)\n",
            " |-- DepDelay: integer (nullable = true)\n",
            " |-- Origin: string (nullable = true)\n",
            " |-- Dest: string (nullable = true)\n",
            " |-- Distance: integer (nullable = true)\n",
            " |-- TaxiIn: string (nullable = true)\n",
            " |-- TaxiOut: string (nullable = true)\n",
            " |-- Cancelled: integer (nullable = true)\n",
            " |-- CancellationCode: string (nullable = true)\n",
            " |-- Diverted: integer (nullable = true)\n",
            " |-- CarrierDelay: string (nullable = true)\n",
            " |-- WeatherDelay: string (nullable = true)\n",
            " |-- NASDelay: string (nullable = true)\n",
            " |-- SecurityDelay: string (nullable = true)\n",
            " |-- LateAircraftDelay: string (nullable = true)\n",
            "\n"
          ]
        }
      ]
    },
    {
      "cell_type": "markdown",
      "source": [
        "get datatypes of each variable(column) in dataset"
      ],
      "metadata": {
        "id": "qEBELd5_gwhl"
      }
    },
    {
      "cell_type": "markdown",
      "source": [
        "### OR"
      ],
      "metadata": {
        "id": "GYpN6LjUcn7I"
      }
    },
    {
      "cell_type": "code",
      "source": [
        "df.dtypes  # # use for showing datatypes"
      ],
      "metadata": {
        "colab": {
          "base_uri": "https://localhost:8080/"
        },
        "id": "2_XmWyG9H8oC",
        "outputId": "929fab72-5637-4c79-d06c-6f1e20767044"
      },
      "execution_count": 6,
      "outputs": [
        {
          "output_type": "execute_result",
          "data": {
            "text/plain": [
              "[('Year', 'int'),\n",
              " ('Month', 'int'),\n",
              " ('DayofMonth', 'int'),\n",
              " ('DayOfWeek', 'int'),\n",
              " ('DepTime', 'int'),\n",
              " ('CRSDepTime', 'int'),\n",
              " ('ArrTime', 'int'),\n",
              " ('CRSArrTime', 'int'),\n",
              " ('UniqueCarrier', 'string'),\n",
              " ('FlightNum', 'int'),\n",
              " ('TailNum', 'string'),\n",
              " ('ActualElapsedTime', 'int'),\n",
              " ('CRSElapsedTime', 'int'),\n",
              " ('AirTime', 'string'),\n",
              " ('ArrDelay', 'int'),\n",
              " ('DepDelay', 'int'),\n",
              " ('Origin', 'string'),\n",
              " ('Dest', 'string'),\n",
              " ('Distance', 'int'),\n",
              " ('TaxiIn', 'string'),\n",
              " ('TaxiOut', 'string'),\n",
              " ('Cancelled', 'int'),\n",
              " ('CancellationCode', 'string'),\n",
              " ('Diverted', 'int'),\n",
              " ('CarrierDelay', 'string'),\n",
              " ('WeatherDelay', 'string'),\n",
              " ('NASDelay', 'string'),\n",
              " ('SecurityDelay', 'string'),\n",
              " ('LateAircraftDelay', 'string')]"
            ]
          },
          "metadata": {},
          "execution_count": 6
        }
      ]
    },
    {
      "cell_type": "markdown",
      "source": [
        "here get datatypes of variables(columns in dataset"
      ],
      "metadata": {
        "id": "2frbbzOfhAYe"
      }
    },
    {
      "cell_type": "markdown",
      "source": [
        "### Q3. Make a new column MonthStr, Which has months in form of 01, 02, 03, ..., 12."
      ],
      "metadata": {
        "id": "cPtIEVIGE53v"
      }
    },
    {
      "cell_type": "code",
      "source": [
        "# importing the required libraries\n",
        "from pyspark.sql.functions import udf,col   # inport udf \n",
        "from pyspark.sql.types import StringType     # import strung type\n",
        "\n",
        "\n",
        "d = {}  # empty list\n",
        "# Changing the data type of 'Month' column to string\n",
        "df1 = df.withColumn(\"Month\", df[\"Month\"].cast(StringType()))\n",
        "for i in df1.collect():\n",
        "  d[i['Month']] = '0'+i['Month']       # use foor loop to make string to all column\n",
        "\n",
        "def monthstr(Month):          # use functio\n",
        "  return str(d.get(Month))\n",
        "# creating the udf\n",
        "a = udf(monthstr)\n",
        "df1 = df1.withColumn(\"MonthStr\",a(col('Month')))   # passing the Month column\n",
        "df1.show(10)"
      ],
      "metadata": {
        "colab": {
          "base_uri": "https://localhost:8080/"
        },
        "id": "h5Cb4hUTDotU",
        "outputId": "d8bf6a86-ae01-4e92-c040-0f37b7cfb07b"
      },
      "execution_count": 8,
      "outputs": [
        {
          "output_type": "stream",
          "name": "stdout",
          "text": [
            "+----+-----+----------+---------+-------+----------+-------+----------+-------------+---------+-------+-----------------+--------------+-------+--------+--------+------+----+--------+------+-------+---------+----------------+--------+------------+------------+--------+-------------+-----------------+--------+\n",
            "|Year|Month|DayofMonth|DayOfWeek|DepTime|CRSDepTime|ArrTime|CRSArrTime|UniqueCarrier|FlightNum|TailNum|ActualElapsedTime|CRSElapsedTime|AirTime|ArrDelay|DepDelay|Origin|Dest|Distance|TaxiIn|TaxiOut|Cancelled|CancellationCode|Diverted|CarrierDelay|WeatherDelay|NASDelay|SecurityDelay|LateAircraftDelay|MonthStr|\n",
            "+----+-----+----------+---------+-------+----------+-------+----------+-------------+---------+-------+-----------------+--------------+-------+--------+--------+------+----+--------+------+-------+---------+----------------+--------+------------+------------+--------+-------------+-----------------+--------+\n",
            "|1989|    1|        23|        1|   1419|      1230|   1742|      1552|           UA|      183|     NA|              323|           322|     NA|     110|     109|   SFO| HNL|    2398|    NA|     NA|        0|              NA|       0|          NA|          NA|      NA|           NA|               NA|      01|\n",
            "|1989|    1|        24|        2|   1255|      1230|   1612|      1552|           UA|      183|     NA|              317|           322|     NA|      20|      25|   SFO| HNL|    2398|    NA|     NA|        0|              NA|       0|          NA|          NA|      NA|           NA|               NA|      01|\n",
            "|1989|    1|        25|        3|   1230|      1230|   1533|      1552|           UA|      183|     NA|              303|           322|     NA|     -19|       0|   SFO| HNL|    2398|    NA|     NA|        0|              NA|       0|          NA|          NA|      NA|           NA|               NA|      01|\n",
            "|1989|    1|        26|        4|   1230|      1230|   1523|      1552|           UA|      183|     NA|              293|           322|     NA|     -29|       0|   SFO| HNL|    2398|    NA|     NA|        0|              NA|       0|          NA|          NA|      NA|           NA|               NA|      01|\n",
            "|1989|    1|        27|        5|   1232|      1230|   1513|      1552|           UA|      183|     NA|              281|           322|     NA|     -39|       2|   SFO| HNL|    2398|    NA|     NA|        0|              NA|       0|          NA|          NA|      NA|           NA|               NA|      01|\n",
            "|1989|    1|        28|        6|   1228|      1230|   1550|      1552|           UA|      183|     NA|              322|           322|     NA|      -2|      -2|   SFO| HNL|    2398|    NA|     NA|        0|              NA|       0|          NA|          NA|      NA|           NA|               NA|      01|\n",
            "|1989|    1|        29|        7|   1639|      1230|   1942|      1552|           UA|      183|     NA|              303|           322|     NA|     230|     249|   SFO| HNL|    2398|    NA|     NA|        0|              NA|       0|          NA|          NA|      NA|           NA|               NA|      01|\n",
            "|1989|    1|        30|        1|   1231|      1230|   1531|      1552|           UA|      183|     NA|              300|           322|     NA|     -21|       1|   SFO| HNL|    2398|    NA|     NA|        0|              NA|       0|          NA|          NA|      NA|           NA|               NA|      01|\n",
            "|1989|    1|        31|        2|   1405|      1230|   1827|      1552|           UA|      183|     NA|              382|           322|     NA|     155|      95|   SFO| HNL|    2398|    NA|     NA|        0|              NA|       0|          NA|          NA|      NA|           NA|               NA|      01|\n",
            "|1989|    1|         2|        1|   1057|      1045|   1537|      1554|           UA|      184|     NA|              160|           189|     NA|     -17|      12|   DEN| IAD|    1452|    NA|     NA|        0|              NA|       0|          NA|          NA|      NA|           NA|               NA|      01|\n",
            "+----+-----+----------+---------+-------+----------+-------+----------+-------------+---------+-------+-----------------+--------------+-------+--------+--------+------+----+--------+------+-------+---------+----------------+--------+------------+------------+--------+-------------+-----------------+--------+\n",
            "only showing top 10 rows\n",
            "\n"
          ]
        }
      ]
    },
    {
      "cell_type": "markdown",
      "source": [
        "### Q4. Find the # of flights each airline made."
      ],
      "metadata": {
        "id": "lT-5j6Z0dKt1"
      }
    },
    {
      "cell_type": "code",
      "source": [
        "df.groupBy(\"UniqueCarrier\").agg({'FlightNum':'count'}).show()  # use of groupby and aggregate function\n"
      ],
      "metadata": {
        "colab": {
          "base_uri": "https://localhost:8080/"
        },
        "id": "qVKMjxL9ipRW",
        "outputId": "445b05b6-00cd-4f2c-fdc1-066f6d1b9302"
      },
      "execution_count": 9,
      "outputs": [
        {
          "output_type": "stream",
          "name": "stdout",
          "text": [
            "+-------------+----------------+\n",
            "|UniqueCarrier|count(FlightNum)|\n",
            "+-------------+----------------+\n",
            "|           UA|             426|\n",
            "+-------------+----------------+\n",
            "\n"
          ]
        }
      ]
    },
    {
      "cell_type": "markdown",
      "source": [
        "From above table get number of flights through unique carrieer"
      ],
      "metadata": {
        "id": "vUXtsxCfgfrC"
      }
    },
    {
      "cell_type": "code",
      "source": [
        "df.groupBy(\"Origin\").agg({'FlightNum':'count'}).show()  # use of gruopby and aggregate function\n"
      ],
      "metadata": {
        "colab": {
          "base_uri": "https://localhost:8080/"
        },
        "id": "25o2JFTEjj44",
        "outputId": "0d81bd21-5ac6-457f-e23a-2c76befb9a83"
      },
      "execution_count": 10,
      "outputs": [
        {
          "output_type": "stream",
          "name": "stdout",
          "text": [
            "+------+----------------+\n",
            "|Origin|count(FlightNum)|\n",
            "+------+----------------+\n",
            "|   LIH|              30|\n",
            "|   HNL|             124|\n",
            "|   EWR|              24|\n",
            "|   DEN|              30|\n",
            "|   IAD|              30|\n",
            "|   SFO|             130|\n",
            "|   PHL|              29|\n",
            "|   OGG|              29|\n",
            "+------+----------------+\n",
            "\n"
          ]
        }
      ]
    },
    {
      "cell_type": "markdown",
      "source": [
        "From above table get number of flights through origin(airport)\n",
        "\n",
        "\n"
      ],
      "metadata": {
        "id": "mMUB0zasgG5l"
      }
    },
    {
      "cell_type": "markdown",
      "source": [
        "### Q5. Find the mean Arrival delay delay per origination airport\n",
        "\n",
        "\n",
        "\n"
      ],
      "metadata": {
        "id": "rgi89bqFdoMF"
      }
    },
    {
      "cell_type": "code",
      "source": [
        "from pyspark.sql import functions as F          # import function\n",
        "df.groupBy(\"Origin\").agg(F.mean('ArrDelay')).show() # use of gruopby and aggregate function for mean"
      ],
      "metadata": {
        "colab": {
          "base_uri": "https://localhost:8080/"
        },
        "id": "1vGy0ltIhNHJ",
        "outputId": "5d2e7b98-5bd7-424d-dcda-d3f58eedd09c"
      },
      "execution_count": 11,
      "outputs": [
        {
          "output_type": "stream",
          "name": "stdout",
          "text": [
            "+------+-------------------+\n",
            "|Origin|      avg(ArrDelay)|\n",
            "+------+-------------------+\n",
            "|   LIH|0.16666666666666666|\n",
            "|   HNL|  14.21774193548387|\n",
            "|   EWR|               9.25|\n",
            "|   DEN| 20.166666666666668|\n",
            "|   IAD| 12.966666666666667|\n",
            "|   SFO| 11.215384615384615|\n",
            "|   PHL|  6.827586206896552|\n",
            "|   OGG|  16.24137931034483|\n",
            "+------+-------------------+\n",
            "\n"
          ]
        }
      ]
    },
    {
      "cell_type": "markdown",
      "source": [
        "From above table get mean Arrival delay delay per origination airport"
      ],
      "metadata": {
        "id": "QTgL4qBmf37I"
      }
    },
    {
      "cell_type": "markdown",
      "source": [
        "### OR"
      ],
      "metadata": {
        "id": "KmMIK9Osekaj"
      }
    },
    {
      "cell_type": "code",
      "source": [
        "df.groupBy(\"Origin\").agg({'ArrDelay':'avg'}).show()  # use of gruopby and aggregate function for mean"
      ],
      "metadata": {
        "colab": {
          "base_uri": "https://localhost:8080/"
        },
        "id": "UxPm6eXLILQs",
        "outputId": "a384dd0a-f866-446b-c391-dc4ba26cd05f"
      },
      "execution_count": 12,
      "outputs": [
        {
          "output_type": "stream",
          "name": "stdout",
          "text": [
            "+------+-------------------+\n",
            "|Origin|      avg(ArrDelay)|\n",
            "+------+-------------------+\n",
            "|   LIH|0.16666666666666666|\n",
            "|   HNL|  14.21774193548387|\n",
            "|   EWR|               9.25|\n",
            "|   DEN| 20.166666666666668|\n",
            "|   IAD| 12.966666666666667|\n",
            "|   SFO| 11.215384615384615|\n",
            "|   PHL|  6.827586206896552|\n",
            "|   OGG|  16.24137931034483|\n",
            "+------+-------------------+\n",
            "\n"
          ]
        }
      ]
    },
    {
      "cell_type": "markdown",
      "source": [
        "From above table get mean Arrival delay delay per origination airp"
      ],
      "metadata": {
        "id": "O_mEbsgkgDo6"
      }
    },
    {
      "cell_type": "markdown",
      "source": [
        "### Q6 What is the average departure delay from each airport?"
      ],
      "metadata": {
        "id": "aaRBfE53ewie"
      }
    },
    {
      "cell_type": "code",
      "source": [
        "df.groupBy(\"Origin\").agg({'DepDelay':'avg'}).show()  # use of gruopby and aggregate function for average"
      ],
      "metadata": {
        "colab": {
          "base_uri": "https://localhost:8080/"
        },
        "id": "MVz4_4zfh-Ls",
        "outputId": "7cea2e1a-20d7-4abb-93aa-1432bdb5b141"
      },
      "execution_count": 13,
      "outputs": [
        {
          "output_type": "stream",
          "name": "stdout",
          "text": [
            "+------+-------------------+\n",
            "|Origin|      avg(DepDelay)|\n",
            "+------+-------------------+\n",
            "|   LIH|-3.7666666666666666|\n",
            "|   HNL|  3.217741935483871|\n",
            "|   EWR|  4.958333333333333|\n",
            "|   DEN|               27.6|\n",
            "|   IAD|                8.9|\n",
            "|   SFO| 19.646153846153847|\n",
            "|   PHL| 16.137931034482758|\n",
            "|   OGG|                6.0|\n",
            "+------+-------------------+\n",
            "\n"
          ]
        }
      ]
    },
    {
      "cell_type": "markdown",
      "source": [
        "from Above table average departure delay from each airport"
      ],
      "metadata": {
        "id": "6KZLlKgnfohB"
      }
    },
    {
      "cell_type": "code",
      "source": [
        "\n"
      ],
      "metadata": {
        "id": "60lTjXCYdLcN"
      },
      "execution_count": null,
      "outputs": []
    },
    {
      "cell_type": "code",
      "source": [
        "\n"
      ],
      "metadata": {
        "id": "Rtj71RW3eAC4"
      },
      "execution_count": null,
      "outputs": []
    },
    {
      "cell_type": "code",
      "source": [
        ""
      ],
      "metadata": {
        "id": "1nqsgQ4ye9B3"
      },
      "execution_count": null,
      "outputs": []
    }
  ]
}